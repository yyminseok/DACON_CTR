{
 "cells": [
  {
   "cell_type": "markdown",
   "metadata": {},
   "source": [
    "### Import"
   ]
  },
  {
   "cell_type": "code",
   "execution_count": 1,
   "metadata": {},
   "outputs": [],
   "source": [
    "import os\n",
    "import random\n",
    "import numpy as np\n",
    "import pandas as pd\n",
    "from tqdm import tqdm\n",
    "import duckdb\n",
    "\n",
    "import plotly.express as px\n",
    "\n",
    "import category_encoders as ce\n",
    "from sklearn.ensemble import AdaBoostClassifier\n",
    "from sklearn import metrics\n",
    "from catboost import CatBoostClassifier\n",
    "from sklearn.metrics import accuracy_score\n",
    "from sklearn.model_selection import train_test_split"
   ]
  },
  {
   "cell_type": "code",
   "execution_count": 2,
   "metadata": {},
   "outputs": [],
   "source": [
    "# 동일한 결과 보장을 위해 Seed값을 고정합니다\n",
    "def seed_everything(seed):\n",
    "    random.seed(seed)\n",
    "    os.environ['PYTHONHASHSEED'] = str(seed)\n",
    "    np.random.seed(seed)\n",
    "\n",
    "seed_everything(42) # Seed를 42로 고정"
   ]
  },
  {
   "cell_type": "code",
   "execution_count": 3,
   "metadata": {},
   "outputs": [],
   "source": [
    "train_path = '../ctr_data/train.csv'\n",
    "\n",
    "con = duckdb.connect()\n",
    "\n",
    "df = con.query(f\"\"\"(SELECT *\n",
    "                        FROM read_csv_auto('{train_path}')\n",
    "                        WHERE Click = 0\n",
    "                        ORDER BY random()\n",
    "                        LIMIT 50000)\n",
    "                        UNION ALL\n",
    "                        (SELECT *\n",
    "                        FROM read_csv_auto('{train_path}')\n",
    "                        WHERE Click = 1\n",
    "                        ORDER BY random()\n",
    "                        LIMIT 50000)\"\"\").df()\n",
    "\n",
    "\n",
    "con.close()\n",
    "test = pd.read_csv('../ctr_data/test.csv')"
   ]
  },
  {
   "cell_type": "markdown",
   "metadata": {},
   "source": [
    "### EDA 1 : Sparse and Dense"
   ]
  },
  {
   "cell_type": "code",
   "execution_count": 4,
   "metadata": {},
   "outputs": [],
   "source": [
    "train=df"
   ]
  },
  {
   "cell_type": "markdown",
   "metadata": {},
   "source": [
    "### Data Preprocessing 1 : Select x, y"
   ]
  },
  {
   "cell_type": "code",
   "execution_count": 5,
   "metadata": {},
   "outputs": [],
   "source": [
    "train_x = train.drop(columns=['ID', 'Click'])\n",
    "train_y = train['Click']\n",
    "\n",
    "test_x = test.drop(columns=['ID'])"
   ]
  },
  {
   "cell_type": "markdown",
   "metadata": {},
   "source": [
    "### Data Preprocessing 2 : Fill NaN"
   ]
  },
  {
   "cell_type": "code",
   "execution_count": 6,
   "metadata": {},
   "outputs": [
    {
     "name": "stderr",
     "output_type": "stream",
     "text": [
      "  0%|          | 0/39 [00:00<?, ?it/s]"
     ]
    },
    {
     "name": "stderr",
     "output_type": "stream",
     "text": [
      "C:\\Users\\user\\AppData\\Local\\Temp\\ipykernel_368\\2404825995.py:3: FutureWarning: A value is trying to be set on a copy of a DataFrame or Series through chained assignment using an inplace method.\n",
      "The behavior will change in pandas 3.0. This inplace method will never work because the intermediate object on which we are setting values always behaves as a copy.\n",
      "\n",
      "For example, when doing 'df[col].method(value, inplace=True)', try using 'df.method({col: value}, inplace=True)' or df[col] = df[col].method(value) instead, to perform the operation inplace on the original object.\n",
      "\n",
      "\n",
      "  train_x[col].fillna(0, inplace=True)\n",
      "C:\\Users\\user\\AppData\\Local\\Temp\\ipykernel_368\\2404825995.py:4: FutureWarning: A value is trying to be set on a copy of a DataFrame or Series through chained assignment using an inplace method.\n",
      "The behavior will change in pandas 3.0. This inplace method will never work because the intermediate object on which we are setting values always behaves as a copy.\n",
      "\n",
      "For example, when doing 'df[col].method(value, inplace=True)', try using 'df.method({col: value}, inplace=True)' or df[col] = df[col].method(value) instead, to perform the operation inplace on the original object.\n",
      "\n",
      "\n",
      "  test_x[col].fillna(0, inplace=True)\n",
      "100%|██████████| 39/39 [00:01<00:00, 20.25it/s]\n"
     ]
    }
   ],
   "source": [
    "for col in tqdm(train_x.columns):\n",
    "    if train_x[col].isnull().sum() != 0:\n",
    "        train_x[col].fillna(0, inplace=True)\n",
    "        test_x[col].fillna(0, inplace=True)"
   ]
  },
  {
   "cell_type": "code",
   "execution_count": 7,
   "metadata": {},
   "outputs": [],
   "source": [
    "encoding_target = list(train_x.dtypes[train_x.dtypes == \"object\"].index)\n",
    "\n",
    "enc = ce.CountEncoder(cols = encoding_target).fit(train_x, train_y)\n",
    "X_train_encoded = enc.transform(train_x)\n",
    "X_test_encoded = enc.transform(test_x)"
   ]
  },
  {
   "cell_type": "code",
   "execution_count": 8,
   "metadata": {},
   "outputs": [],
   "source": [
    "categorical_target=list(train_x.dtypes[train_x.dtypes == \"float\"].index)\n",
    "# print(categorical_target)\n",
    "# print(encoding_target)\n",
    "# print(X_train_encoded)"
   ]
  },
  {
   "cell_type": "code",
   "execution_count": 9,
   "metadata": {},
   "outputs": [
    {
     "name": "stdout",
     "output_type": "stream",
     "text": [
      "0:\tlearn: 0.6857584\ttest: 0.6911395\tbest: 0.6911395 (0)\ttotal: 732ms\tremaining: 2h 2m 3s\n",
      "1:\tlearn: 0.6782159\ttest: 0.6890951\tbest: 0.6890951 (1)\ttotal: 1.45s\tremaining: 2h 52s\n",
      "2:\tlearn: 0.6692149\ttest: 0.6873042\tbest: 0.6873042 (2)\ttotal: 2.18s\tremaining: 2h 1m 4s\n",
      "3:\tlearn: 0.6609018\ttest: 0.6853452\tbest: 0.6853452 (3)\ttotal: 2.9s\tremaining: 2h 1m 1s\n",
      "4:\tlearn: 0.6538723\ttest: 0.6836779\tbest: 0.6836779 (4)\ttotal: 3.62s\tremaining: 2h 36s\n",
      "5:\tlearn: 0.6485888\ttest: 0.6820352\tbest: 0.6820352 (5)\ttotal: 4.32s\tremaining: 2h\n",
      "6:\tlearn: 0.6406497\ttest: 0.6804003\tbest: 0.6804003 (6)\ttotal: 5.04s\tremaining: 1h 59m 57s\n",
      "7:\tlearn: 0.6338496\ttest: 0.6790317\tbest: 0.6790317 (7)\ttotal: 5.76s\tremaining: 1h 59m 49s\n",
      "8:\tlearn: 0.6279350\ttest: 0.6776992\tbest: 0.6776992 (8)\ttotal: 6.46s\tremaining: 1h 59m 36s\n",
      "9:\tlearn: 0.6220269\ttest: 0.6762759\tbest: 0.6762759 (9)\ttotal: 7.18s\tremaining: 1h 59m 29s\n",
      "10:\tlearn: 0.6159938\ttest: 0.6748253\tbest: 0.6748253 (10)\ttotal: 7.89s\tremaining: 1h 59m 25s\n",
      "11:\tlearn: 0.6087422\ttest: 0.6735003\tbest: 0.6735003 (11)\ttotal: 8.61s\tremaining: 1h 59m 29s\n",
      "12:\tlearn: 0.6003591\ttest: 0.6721008\tbest: 0.6721008 (12)\ttotal: 9.35s\tremaining: 1h 59m 39s\n",
      "13:\tlearn: 0.5951906\ttest: 0.6709740\tbest: 0.6709740 (13)\ttotal: 10.1s\tremaining: 1h 59m 31s\n",
      "14:\tlearn: 0.5889185\ttest: 0.6696904\tbest: 0.6696904 (14)\ttotal: 10.8s\tremaining: 1h 59m 33s\n",
      "15:\tlearn: 0.5826957\ttest: 0.6682042\tbest: 0.6682042 (15)\ttotal: 11.5s\tremaining: 1h 59m 34s\n",
      "16:\tlearn: 0.5769176\ttest: 0.6668189\tbest: 0.6668189 (16)\ttotal: 12.2s\tremaining: 1h 59m 36s\n",
      "17:\tlearn: 0.5724066\ttest: 0.6658014\tbest: 0.6658014 (17)\ttotal: 12.9s\tremaining: 1h 59m 30s\n",
      "18:\tlearn: 0.5659478\ttest: 0.6643402\tbest: 0.6643402 (18)\ttotal: 13.7s\tremaining: 1h 59m 31s\n",
      "19:\tlearn: 0.5612653\ttest: 0.6633052\tbest: 0.6633052 (19)\ttotal: 14.4s\tremaining: 1h 59m 27s\n",
      "20:\tlearn: 0.5570073\ttest: 0.6622857\tbest: 0.6622857 (20)\ttotal: 15.1s\tremaining: 1h 59m 19s\n",
      "21:\tlearn: 0.5510579\ttest: 0.6614240\tbest: 0.6614240 (21)\ttotal: 15.8s\tremaining: 1h 59m 22s\n",
      "22:\tlearn: 0.5459445\ttest: 0.6605277\tbest: 0.6605277 (22)\ttotal: 16.5s\tremaining: 1h 59m 22s\n",
      "23:\tlearn: 0.5409808\ttest: 0.6595382\tbest: 0.6595382 (23)\ttotal: 17.2s\tremaining: 1h 59m 22s\n",
      "24:\tlearn: 0.5351325\ttest: 0.6586771\tbest: 0.6586771 (24)\ttotal: 18s\tremaining: 1h 59m 24s\n",
      "25:\tlearn: 0.5315270\ttest: 0.6578948\tbest: 0.6578948 (25)\ttotal: 18.7s\tremaining: 1h 59m 17s\n",
      "26:\tlearn: 0.5252489\ttest: 0.6570062\tbest: 0.6570062 (26)\ttotal: 19.4s\tremaining: 1h 59m 18s\n",
      "27:\tlearn: 0.5214129\ttest: 0.6562233\tbest: 0.6562233 (27)\ttotal: 20.1s\tremaining: 1h 59m 14s\n",
      "28:\tlearn: 0.5164531\ttest: 0.6552881\tbest: 0.6552881 (28)\ttotal: 20.8s\tremaining: 1h 59m 13s\n",
      "29:\tlearn: 0.5127278\ttest: 0.6545835\tbest: 0.6545835 (29)\ttotal: 21.5s\tremaining: 1h 59m 9s\n",
      "30:\tlearn: 0.5090150\ttest: 0.6538173\tbest: 0.6538173 (30)\ttotal: 22.2s\tremaining: 1h 59m 5s\n",
      "31:\tlearn: 0.5029482\ttest: 0.6527323\tbest: 0.6527323 (31)\ttotal: 22.9s\tremaining: 1h 59m 6s\n",
      "32:\tlearn: 0.4993300\ttest: 0.6519686\tbest: 0.6519686 (32)\ttotal: 23.7s\tremaining: 1h 59m 4s\n",
      "33:\tlearn: 0.4949329\ttest: 0.6515093\tbest: 0.6515093 (33)\ttotal: 24.4s\tremaining: 1h 59m 2s\n",
      "34:\tlearn: 0.4901034\ttest: 0.6506842\tbest: 0.6506842 (34)\ttotal: 25.1s\tremaining: 1h 58m 59s\n",
      "35:\tlearn: 0.4842865\ttest: 0.6501258\tbest: 0.6501258 (35)\ttotal: 25.8s\tremaining: 1h 59m 1s\n",
      "36:\tlearn: 0.4803214\ttest: 0.6492916\tbest: 0.6492916 (36)\ttotal: 26.5s\tremaining: 1h 58m 59s\n",
      "37:\tlearn: 0.4754131\ttest: 0.6486460\tbest: 0.6486460 (37)\ttotal: 27.2s\tremaining: 1h 58m 59s\n",
      "38:\tlearn: 0.4716353\ttest: 0.6481074\tbest: 0.6481074 (38)\ttotal: 27.9s\tremaining: 1h 58m 57s\n",
      "39:\tlearn: 0.4686670\ttest: 0.6476730\tbest: 0.6476730 (39)\ttotal: 28.6s\tremaining: 1h 58m 52s\n",
      "40:\tlearn: 0.4641544\ttest: 0.6471598\tbest: 0.6471598 (40)\ttotal: 29.4s\tremaining: 1h 58m 52s\n",
      "41:\tlearn: 0.4591199\ttest: 0.6466126\tbest: 0.6466126 (41)\ttotal: 30.1s\tremaining: 1h 58m 51s\n",
      "42:\tlearn: 0.4555741\ttest: 0.6461106\tbest: 0.6461106 (42)\ttotal: 30.8s\tremaining: 1h 58m 49s\n",
      "43:\tlearn: 0.4511795\ttest: 0.6457208\tbest: 0.6457208 (43)\ttotal: 31.5s\tremaining: 1h 58m 49s\n",
      "44:\tlearn: 0.4479425\ttest: 0.6452363\tbest: 0.6452363 (44)\ttotal: 32.2s\tremaining: 1h 58m 47s\n",
      "45:\tlearn: 0.4441890\ttest: 0.6448740\tbest: 0.6448740 (45)\ttotal: 32.9s\tremaining: 1h 58m 46s\n",
      "46:\tlearn: 0.4399155\ttest: 0.6444188\tbest: 0.6444188 (46)\ttotal: 33.6s\tremaining: 1h 58m 45s\n",
      "47:\tlearn: 0.4364835\ttest: 0.6439694\tbest: 0.6439694 (47)\ttotal: 34.4s\tremaining: 1h 58m 42s\n",
      "48:\tlearn: 0.4335142\ttest: 0.6436531\tbest: 0.6436531 (48)\ttotal: 35.1s\tremaining: 1h 58m 41s\n",
      "49:\tlearn: 0.4300026\ttest: 0.6431596\tbest: 0.6431596 (49)\ttotal: 35.8s\tremaining: 1h 58m 40s\n",
      "50:\tlearn: 0.4268351\ttest: 0.6428426\tbest: 0.6428426 (50)\ttotal: 36.5s\tremaining: 1h 58m 39s\n",
      "51:\tlearn: 0.4222194\ttest: 0.6425280\tbest: 0.6425280 (51)\ttotal: 37.2s\tremaining: 1h 58m 39s\n",
      "52:\tlearn: 0.4190283\ttest: 0.6422808\tbest: 0.6422808 (52)\ttotal: 37.9s\tremaining: 1h 58m 37s\n",
      "53:\tlearn: 0.4153875\ttest: 0.6419566\tbest: 0.6419566 (53)\ttotal: 38.6s\tremaining: 1h 58m 37s\n",
      "54:\tlearn: 0.4106574\ttest: 0.6416161\tbest: 0.6416161 (54)\ttotal: 39.4s\tremaining: 1h 58m 38s\n",
      "55:\tlearn: 0.4069058\ttest: 0.6413495\tbest: 0.6413495 (55)\ttotal: 40.1s\tremaining: 1h 58m 37s\n",
      "56:\tlearn: 0.4034233\ttest: 0.6410256\tbest: 0.6410256 (56)\ttotal: 40.8s\tremaining: 1h 58m 36s\n",
      "57:\tlearn: 0.4003454\ttest: 0.6406217\tbest: 0.6406217 (57)\ttotal: 41.5s\tremaining: 1h 58m 34s\n",
      "58:\tlearn: 0.3982291\ttest: 0.6401980\tbest: 0.6401980 (58)\ttotal: 42.2s\tremaining: 1h 58m 31s\n",
      "59:\tlearn: 0.3961383\ttest: 0.6398302\tbest: 0.6398302 (59)\ttotal: 42.9s\tremaining: 1h 58m 27s\n",
      "60:\tlearn: 0.3935818\ttest: 0.6393913\tbest: 0.6393913 (60)\ttotal: 43.6s\tremaining: 1h 58m 24s\n",
      "61:\tlearn: 0.3902152\ttest: 0.6390570\tbest: 0.6390570 (61)\ttotal: 44.3s\tremaining: 1h 58m 24s\n",
      "62:\tlearn: 0.3874540\ttest: 0.6387430\tbest: 0.6387430 (62)\ttotal: 45s\tremaining: 1h 58m 22s\n",
      "63:\tlearn: 0.3831811\ttest: 0.6386643\tbest: 0.6386643 (63)\ttotal: 45.8s\tremaining: 1h 58m 23s\n",
      "64:\tlearn: 0.3801217\ttest: 0.6386154\tbest: 0.6386154 (64)\ttotal: 46.5s\tremaining: 1h 58m 25s\n",
      "65:\tlearn: 0.3773546\ttest: 0.6383991\tbest: 0.6383991 (65)\ttotal: 47.2s\tremaining: 1h 58m 24s\n",
      "66:\tlearn: 0.3754608\ttest: 0.6382605\tbest: 0.6382605 (66)\ttotal: 47.9s\tremaining: 1h 58m 20s\n",
      "67:\tlearn: 0.3721023\ttest: 0.6380352\tbest: 0.6380352 (67)\ttotal: 48.6s\tremaining: 1h 58m 19s\n",
      "68:\tlearn: 0.3704099\ttest: 0.6376992\tbest: 0.6376992 (68)\ttotal: 49.3s\tremaining: 1h 58m 15s\n",
      "69:\tlearn: 0.3680682\ttest: 0.6375033\tbest: 0.6375033 (69)\ttotal: 50s\tremaining: 1h 58m 14s\n",
      "70:\tlearn: 0.3640761\ttest: 0.6371693\tbest: 0.6371693 (70)\ttotal: 50.7s\tremaining: 1h 58m 14s\n",
      "71:\tlearn: 0.3610139\ttest: 0.6367745\tbest: 0.6367745 (71)\ttotal: 51.4s\tremaining: 1h 58m 13s\n",
      "72:\tlearn: 0.3572978\ttest: 0.6365276\tbest: 0.6365276 (72)\ttotal: 52.2s\tremaining: 1h 58m 15s\n",
      "73:\tlearn: 0.3543916\ttest: 0.6363133\tbest: 0.6363133 (73)\ttotal: 52.9s\tremaining: 1h 58m 14s\n",
      "74:\tlearn: 0.3516174\ttest: 0.6361813\tbest: 0.6361813 (74)\ttotal: 53.6s\tremaining: 1h 58m 13s\n",
      "75:\tlearn: 0.3496766\ttest: 0.6359553\tbest: 0.6359553 (75)\ttotal: 54.3s\tremaining: 1h 58m 10s\n",
      "76:\tlearn: 0.3459333\ttest: 0.6359460\tbest: 0.6359460 (76)\ttotal: 55s\tremaining: 1h 58m 10s\n",
      "77:\tlearn: 0.3437917\ttest: 0.6357499\tbest: 0.6357499 (77)\ttotal: 55.7s\tremaining: 1h 58m 10s\n",
      "78:\tlearn: 0.3409764\ttest: 0.6355482\tbest: 0.6355482 (78)\ttotal: 56.5s\tremaining: 1h 58m 10s\n",
      "79:\tlearn: 0.3384349\ttest: 0.6354021\tbest: 0.6354021 (79)\ttotal: 57.2s\tremaining: 1h 58m 9s\n",
      "80:\tlearn: 0.3361627\ttest: 0.6352506\tbest: 0.6352506 (80)\ttotal: 57.9s\tremaining: 1h 58m 8s\n",
      "81:\tlearn: 0.3342220\ttest: 0.6352817\tbest: 0.6352506 (80)\ttotal: 58.6s\tremaining: 1h 58m 7s\n",
      "82:\tlearn: 0.3321464\ttest: 0.6352146\tbest: 0.6352146 (82)\ttotal: 59.3s\tremaining: 1h 58m 8s\n",
      "83:\tlearn: 0.3300412\ttest: 0.6349872\tbest: 0.6349872 (83)\ttotal: 1m\tremaining: 1h 58m 6s\n",
      "84:\tlearn: 0.3276513\ttest: 0.6348338\tbest: 0.6348338 (84)\ttotal: 1m\tremaining: 1h 58m 5s\n",
      "85:\tlearn: 0.3261690\ttest: 0.6346718\tbest: 0.6346718 (85)\ttotal: 1m 1s\tremaining: 1h 58m 4s\n",
      "86:\tlearn: 0.3251563\ttest: 0.6345126\tbest: 0.6345126 (86)\ttotal: 1m 2s\tremaining: 1h 58m 1s\n",
      "87:\tlearn: 0.3234894\ttest: 0.6343441\tbest: 0.6343441 (87)\ttotal: 1m 2s\tremaining: 1h 58m\n",
      "88:\tlearn: 0.3215749\ttest: 0.6343631\tbest: 0.6343441 (87)\ttotal: 1m 3s\tremaining: 1h 57m 59s\n",
      "89:\tlearn: 0.3178378\ttest: 0.6343448\tbest: 0.6343441 (87)\ttotal: 1m 4s\tremaining: 1h 58m\n",
      "90:\tlearn: 0.3160447\ttest: 0.6341988\tbest: 0.6341988 (90)\ttotal: 1m 5s\tremaining: 1h 57m 58s\n",
      "91:\tlearn: 0.3146531\ttest: 0.6341405\tbest: 0.6341405 (91)\ttotal: 1m 5s\tremaining: 1h 57m 59s\n",
      "92:\tlearn: 0.3123819\ttest: 0.6339670\tbest: 0.6339670 (92)\ttotal: 1m 6s\tremaining: 1h 57m 58s\n",
      "93:\tlearn: 0.3110336\ttest: 0.6338182\tbest: 0.6338182 (93)\ttotal: 1m 7s\tremaining: 1h 57m 55s\n",
      "94:\tlearn: 0.3091114\ttest: 0.6338130\tbest: 0.6338130 (94)\ttotal: 1m 7s\tremaining: 1h 57m 53s\n",
      "95:\tlearn: 0.3081641\ttest: 0.6336409\tbest: 0.6336409 (95)\ttotal: 1m 8s\tremaining: 1h 57m 49s\n",
      "96:\tlearn: 0.3068432\ttest: 0.6334071\tbest: 0.6334071 (96)\ttotal: 1m 9s\tremaining: 1h 57m 46s\n",
      "97:\tlearn: 0.3049667\ttest: 0.6333149\tbest: 0.6333149 (97)\ttotal: 1m 9s\tremaining: 1h 57m 44s\n",
      "98:\tlearn: 0.3025500\ttest: 0.6331876\tbest: 0.6331876 (98)\ttotal: 1m 10s\tremaining: 1h 57m 45s\n",
      "99:\tlearn: 0.3011179\ttest: 0.6330604\tbest: 0.6330604 (99)\ttotal: 1m 11s\tremaining: 1h 57m 42s\n",
      "100:\tlearn: 0.2995800\ttest: 0.6330557\tbest: 0.6330557 (100)\ttotal: 1m 12s\tremaining: 1h 57m 40s\n",
      "101:\tlearn: 0.2976681\ttest: 0.6330665\tbest: 0.6330557 (100)\ttotal: 1m 12s\tremaining: 1h 57m 38s\n",
      "102:\tlearn: 0.2963144\ttest: 0.6330745\tbest: 0.6330557 (100)\ttotal: 1m 13s\tremaining: 1h 57m 35s\n",
      "103:\tlearn: 0.2952876\ttest: 0.6329864\tbest: 0.6329864 (103)\ttotal: 1m 14s\tremaining: 1h 57m 32s\n",
      "104:\tlearn: 0.2942770\ttest: 0.6330016\tbest: 0.6329864 (103)\ttotal: 1m 14s\tremaining: 1h 57m 28s\n",
      "105:\tlearn: 0.2919916\ttest: 0.6328663\tbest: 0.6328663 (105)\ttotal: 1m 15s\tremaining: 1h 57m 27s\n",
      "106:\tlearn: 0.2894372\ttest: 0.6330176\tbest: 0.6328663 (105)\ttotal: 1m 16s\tremaining: 1h 57m 26s\n",
      "107:\tlearn: 0.2878509\ttest: 0.6329674\tbest: 0.6328663 (105)\ttotal: 1m 16s\tremaining: 1h 57m 25s\n",
      "108:\tlearn: 0.2837586\ttest: 0.6330988\tbest: 0.6328663 (105)\ttotal: 1m 17s\tremaining: 1h 57m 25s\n",
      "109:\tlearn: 0.2819889\ttest: 0.6330831\tbest: 0.6328663 (105)\ttotal: 1m 18s\tremaining: 1h 57m 23s\n",
      "110:\tlearn: 0.2809896\ttest: 0.6329501\tbest: 0.6328663 (105)\ttotal: 1m 19s\tremaining: 1h 57m 20s\n",
      "111:\tlearn: 0.2790843\ttest: 0.6328820\tbest: 0.6328663 (105)\ttotal: 1m 19s\tremaining: 1h 57m 18s\n",
      "112:\tlearn: 0.2778545\ttest: 0.6330094\tbest: 0.6328663 (105)\ttotal: 1m 20s\tremaining: 1h 57m 15s\n",
      "113:\tlearn: 0.2758514\ttest: 0.6330928\tbest: 0.6328663 (105)\ttotal: 1m 21s\tremaining: 1h 57m 14s\n",
      "114:\tlearn: 0.2734978\ttest: 0.6330618\tbest: 0.6328663 (105)\ttotal: 1m 21s\tremaining: 1h 57m 12s\n",
      "115:\tlearn: 0.2716301\ttest: 0.6329996\tbest: 0.6328663 (105)\ttotal: 1m 22s\tremaining: 1h 57m 10s\n",
      "116:\tlearn: 0.2708455\ttest: 0.6328908\tbest: 0.6328663 (105)\ttotal: 1m 23s\tremaining: 1h 57m 7s\n",
      "117:\tlearn: 0.2687613\ttest: 0.6327809\tbest: 0.6327809 (117)\ttotal: 1m 23s\tremaining: 1h 57m 5s\n",
      "118:\tlearn: 0.2669474\ttest: 0.6327921\tbest: 0.6327809 (117)\ttotal: 1m 24s\tremaining: 1h 57m 3s\n",
      "119:\tlearn: 0.2655403\ttest: 0.6329329\tbest: 0.6327809 (117)\ttotal: 1m 25s\tremaining: 1h 57m 1s\n",
      "120:\tlearn: 0.2639842\ttest: 0.6330110\tbest: 0.6327809 (117)\ttotal: 1m 25s\tremaining: 1h 57m\n",
      "121:\tlearn: 0.2628884\ttest: 0.6329751\tbest: 0.6327809 (117)\ttotal: 1m 26s\tremaining: 1h 56m 57s\n",
      "122:\tlearn: 0.2617166\ttest: 0.6330443\tbest: 0.6327809 (117)\ttotal: 1m 27s\tremaining: 1h 56m 55s\n",
      "123:\tlearn: 0.2601684\ttest: 0.6329348\tbest: 0.6327809 (117)\ttotal: 1m 28s\tremaining: 1h 56m 53s\n",
      "124:\tlearn: 0.2588253\ttest: 0.6329435\tbest: 0.6327809 (117)\ttotal: 1m 28s\tremaining: 1h 56m 51s\n",
      "125:\tlearn: 0.2577452\ttest: 0.6329969\tbest: 0.6327809 (117)\ttotal: 1m 29s\tremaining: 1h 56m 48s\n",
      "126:\tlearn: 0.2566622\ttest: 0.6329758\tbest: 0.6327809 (117)\ttotal: 1m 30s\tremaining: 1h 56m 46s\n",
      "127:\tlearn: 0.2546659\ttest: 0.6329652\tbest: 0.6327809 (117)\ttotal: 1m 30s\tremaining: 1h 56m 44s\n",
      "128:\tlearn: 0.2533878\ttest: 0.6327476\tbest: 0.6327476 (128)\ttotal: 1m 31s\tremaining: 1h 56m 45s\n",
      "129:\tlearn: 0.2517096\ttest: 0.6326983\tbest: 0.6326983 (129)\ttotal: 1m 32s\tremaining: 1h 56m 44s\n",
      "130:\tlearn: 0.2507965\ttest: 0.6328306\tbest: 0.6326983 (129)\ttotal: 1m 32s\tremaining: 1h 56m 41s\n",
      "131:\tlearn: 0.2494621\ttest: 0.6328583\tbest: 0.6326983 (129)\ttotal: 1m 33s\tremaining: 1h 56m 38s\n",
      "132:\tlearn: 0.2487519\ttest: 0.6328722\tbest: 0.6326983 (129)\ttotal: 1m 34s\tremaining: 1h 56m 35s\n",
      "133:\tlearn: 0.2473203\ttest: 0.6329197\tbest: 0.6326983 (129)\ttotal: 1m 34s\tremaining: 1h 56m 33s\n",
      "134:\tlearn: 0.2457712\ttest: 0.6329594\tbest: 0.6326983 (129)\ttotal: 1m 35s\tremaining: 1h 56m 32s\n",
      "135:\tlearn: 0.2447025\ttest: 0.6329487\tbest: 0.6326983 (129)\ttotal: 1m 36s\tremaining: 1h 56m 29s\n",
      "136:\tlearn: 0.2429761\ttest: 0.6331090\tbest: 0.6326983 (129)\ttotal: 1m 37s\tremaining: 1h 56m 28s\n",
      "137:\tlearn: 0.2418814\ttest: 0.6330210\tbest: 0.6326983 (129)\ttotal: 1m 37s\tremaining: 1h 56m 25s\n",
      "138:\tlearn: 0.2407319\ttest: 0.6329323\tbest: 0.6326983 (129)\ttotal: 1m 38s\tremaining: 1h 56m 23s\n",
      "139:\tlearn: 0.2394647\ttest: 0.6329482\tbest: 0.6326983 (129)\ttotal: 1m 39s\tremaining: 1h 56m 21s\n",
      "140:\tlearn: 0.2382813\ttest: 0.6329253\tbest: 0.6326983 (129)\ttotal: 1m 39s\tremaining: 1h 56m 19s\n",
      "141:\tlearn: 0.2366318\ttest: 0.6330269\tbest: 0.6326983 (129)\ttotal: 1m 40s\tremaining: 1h 56m 18s\n",
      "142:\tlearn: 0.2358777\ttest: 0.6329933\tbest: 0.6326983 (129)\ttotal: 1m 41s\tremaining: 1h 56m 15s\n",
      "143:\tlearn: 0.2335941\ttest: 0.6331354\tbest: 0.6326983 (129)\ttotal: 1m 41s\tremaining: 1h 56m 15s\n",
      "144:\tlearn: 0.2324677\ttest: 0.6330965\tbest: 0.6326983 (129)\ttotal: 1m 42s\tremaining: 1h 56m 13s\n",
      "145:\tlearn: 0.2316200\ttest: 0.6331017\tbest: 0.6326983 (129)\ttotal: 1m 43s\tremaining: 1h 56m 10s\n",
      "146:\tlearn: 0.2308227\ttest: 0.6331182\tbest: 0.6326983 (129)\ttotal: 1m 43s\tremaining: 1h 56m 8s\n",
      "147:\tlearn: 0.2294382\ttest: 0.6332041\tbest: 0.6326983 (129)\ttotal: 1m 44s\tremaining: 1h 56m 6s\n",
      "148:\tlearn: 0.2282856\ttest: 0.6332961\tbest: 0.6326983 (129)\ttotal: 1m 45s\tremaining: 1h 56m 5s\n",
      "149:\tlearn: 0.2262941\ttest: 0.6333930\tbest: 0.6326983 (129)\ttotal: 1m 46s\tremaining: 1h 56m 4s\n",
      "150:\tlearn: 0.2244250\ttest: 0.6334242\tbest: 0.6326983 (129)\ttotal: 1m 46s\tremaining: 1h 56m 3s\n",
      "151:\tlearn: 0.2236264\ttest: 0.6333430\tbest: 0.6326983 (129)\ttotal: 1m 47s\tremaining: 1h 56m 1s\n",
      "152:\tlearn: 0.2232903\ttest: 0.6331890\tbest: 0.6326983 (129)\ttotal: 1m 48s\tremaining: 1h 55m 58s\n",
      "153:\tlearn: 0.2218422\ttest: 0.6332931\tbest: 0.6326983 (129)\ttotal: 1m 48s\tremaining: 1h 55m 57s\n",
      "154:\tlearn: 0.2202008\ttest: 0.6333314\tbest: 0.6326983 (129)\ttotal: 1m 49s\tremaining: 1h 55m 56s\n",
      "155:\tlearn: 0.2186284\ttest: 0.6334879\tbest: 0.6326983 (129)\ttotal: 1m 50s\tremaining: 1h 55m 55s\n",
      "156:\tlearn: 0.2172480\ttest: 0.6334984\tbest: 0.6326983 (129)\ttotal: 1m 50s\tremaining: 1h 55m 53s\n",
      "157:\tlearn: 0.2166896\ttest: 0.6334199\tbest: 0.6326983 (129)\ttotal: 1m 51s\tremaining: 1h 55m 50s\n",
      "158:\tlearn: 0.2156528\ttest: 0.6336246\tbest: 0.6326983 (129)\ttotal: 1m 52s\tremaining: 1h 55m 49s\n",
      "159:\tlearn: 0.2142480\ttest: 0.6337158\tbest: 0.6326983 (129)\ttotal: 1m 52s\tremaining: 1h 55m 47s\n",
      "160:\tlearn: 0.2128868\ttest: 0.6338007\tbest: 0.6326983 (129)\ttotal: 1m 53s\tremaining: 1h 55m 46s\n",
      "161:\tlearn: 0.2121853\ttest: 0.6337501\tbest: 0.6326983 (129)\ttotal: 1m 54s\tremaining: 1h 55m 44s\n",
      "162:\tlearn: 0.2112564\ttest: 0.6337587\tbest: 0.6326983 (129)\ttotal: 1m 55s\tremaining: 1h 55m 42s\n",
      "163:\tlearn: 0.2099082\ttest: 0.6338143\tbest: 0.6326983 (129)\ttotal: 1m 55s\tremaining: 1h 55m 41s\n",
      "164:\tlearn: 0.2088133\ttest: 0.6338854\tbest: 0.6326983 (129)\ttotal: 1m 56s\tremaining: 1h 55m 39s\n",
      "165:\tlearn: 0.2079024\ttest: 0.6339685\tbest: 0.6326983 (129)\ttotal: 1m 57s\tremaining: 1h 55m 38s\n",
      "166:\tlearn: 0.2068665\ttest: 0.6339677\tbest: 0.6326983 (129)\ttotal: 1m 57s\tremaining: 1h 55m 36s\n",
      "167:\tlearn: 0.2057117\ttest: 0.6338856\tbest: 0.6326983 (129)\ttotal: 1m 58s\tremaining: 1h 55m 34s\n",
      "168:\tlearn: 0.2044414\ttest: 0.6339792\tbest: 0.6326983 (129)\ttotal: 1m 59s\tremaining: 1h 55m 33s\n",
      "169:\tlearn: 0.2031536\ttest: 0.6339288\tbest: 0.6326983 (129)\ttotal: 1m 59s\tremaining: 1h 55m 32s\n",
      "170:\tlearn: 0.2022677\ttest: 0.6339735\tbest: 0.6326983 (129)\ttotal: 2m\tremaining: 1h 55m 31s\n",
      "171:\tlearn: 0.2011101\ttest: 0.6339379\tbest: 0.6326983 (129)\ttotal: 2m 1s\tremaining: 1h 55m 30s\n",
      "172:\tlearn: 0.2006270\ttest: 0.6339172\tbest: 0.6326983 (129)\ttotal: 2m 1s\tremaining: 1h 55m 28s\n",
      "173:\tlearn: 0.1995285\ttest: 0.6339663\tbest: 0.6326983 (129)\ttotal: 2m 2s\tremaining: 1h 55m 26s\n",
      "174:\tlearn: 0.1975515\ttest: 0.6341548\tbest: 0.6326983 (129)\ttotal: 2m 3s\tremaining: 1h 55m 26s\n",
      "175:\tlearn: 0.1968422\ttest: 0.6340939\tbest: 0.6326983 (129)\ttotal: 2m 4s\tremaining: 1h 55m 25s\n",
      "176:\tlearn: 0.1957262\ttest: 0.6340540\tbest: 0.6326983 (129)\ttotal: 2m 4s\tremaining: 1h 55m 23s\n",
      "177:\tlearn: 0.1947533\ttest: 0.6340597\tbest: 0.6326983 (129)\ttotal: 2m 5s\tremaining: 1h 55m 22s\n",
      "178:\tlearn: 0.1939331\ttest: 0.6341357\tbest: 0.6326983 (129)\ttotal: 2m 6s\tremaining: 1h 55m 21s\n",
      "179:\tlearn: 0.1932429\ttest: 0.6341455\tbest: 0.6326983 (129)\ttotal: 2m 6s\tremaining: 1h 55m 19s\n",
      "bestTest = 0.6326983073\n",
      "bestIteration = 129\n",
      "Shrink model to first 130 iterations.\n"
     ]
    },
    {
     "data": {
      "text/plain": [
       "<catboost.core.CatBoostClassifier at 0x20341554710>"
      ]
     },
     "execution_count": 9,
     "metadata": {},
     "output_type": "execute_result"
    }
   ],
   "source": [
    "X_train, X_test, y_train, y_test = train_test_split(X_train_encoded, train_y, test_size=0.15, random_state=9608)\n",
    "\n",
    "cat = CatBoostClassifier(iterations=10000,\n",
    "                         learning_rate=0.01,\n",
    "                         l2_leaf_reg=5e-3,\n",
    "                         max_depth=16,\n",
    "                         task_type=\"GPU\",\n",
    "                         devices='0')\n",
    "\n",
    "cat.fit(X_train,\n",
    "        y_train,\n",
    "        eval_set=[(X_test, y_test)],\n",
    "        early_stopping_rounds=50,\n",
    "        verbose=True)"
   ]
  },
  {
   "cell_type": "code",
   "execution_count": 10,
   "metadata": {},
   "outputs": [
    {
     "name": "stdout",
     "output_type": "stream",
     "text": [
      "0.6477333333333334\n",
      "0.6984777890718509\n"
     ]
    }
   ],
   "source": [
    "preds = cat.predict(X_test)\n",
    "acc_score = accuracy_score(y_test, preds)\n",
    "print(acc_score)\n",
    "\n",
    "score = cat.predict_proba(X_test)[:, 1]\n",
    "fpr, tpr, thresholds = metrics.roc_curve(y_test, score, pos_label=1)\n",
    "auc_score = metrics.auc(fpr, tpr)\n",
    "print(auc_score)"
   ]
  },
  {
   "cell_type": "code",
   "execution_count": 11,
   "metadata": {},
   "outputs": [],
   "source": [
    "test_pred = cat.predict_proba(X_test_encoded)\n",
    "\n",
    "sample_submission = pd.read_csv('../ctr_data/sample_submission.csv')\n",
    "sample_submission['Click'] = test_pred[:,1]\n",
    "sample_submission.to_csv('../ctr_data/catboost_submission.csv', index=False)"
   ]
  },
  {
   "cell_type": "code",
   "execution_count": null,
   "metadata": {},
   "outputs": [],
   "source": []
  }
 ],
 "metadata": {
  "kernelspec": {
   "display_name": "seungyoon",
   "language": "python",
   "name": "python3"
  },
  "language_info": {
   "codemirror_mode": {
    "name": "ipython",
    "version": 3
   },
   "file_extension": ".py",
   "mimetype": "text/x-python",
   "name": "python",
   "nbconvert_exporter": "python",
   "pygments_lexer": "ipython3",
   "version": "3.11.5"
  }
 },
 "nbformat": 4,
 "nbformat_minor": 2
}
